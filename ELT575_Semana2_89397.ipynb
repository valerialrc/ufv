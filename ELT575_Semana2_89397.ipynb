{
  "cells": [
    {
      "cell_type": "markdown",
      "metadata": {
        "id": "view-in-github",
        "colab_type": "text"
      },
      "source": [
        "<a href=\"https://colab.research.google.com/github/valerialrc/ufv/blob/main/ELT575_Semana2_89397.ipynb\" target=\"_parent\"><img src=\"https://colab.research.google.com/assets/colab-badge.svg\" alt=\"Open In Colab\"/></a>"
      ]
    },
    {
      "cell_type": "code",
      "execution_count": null,
      "metadata": {
        "id": "mepYIv5SXA6q"
      },
      "outputs": [],
      "source": [
        "import numpy as np\n",
        "import tensorflow as tf\n",
        "\n",
        "from matplotlib import pyplot as plt\n",
        "from sklearn.model_selection import KFold\n",
        "from tensorflow.keras.datasets import mnist, cifar10\n",
        "from tensorflow.keras.utils import to_categorical\n",
        "from tensorflow.keras.models import Sequential\n",
        "from tensorflow.keras.layers import Conv2D, MaxPooling2D, Dense, Flatten, Dropout, BatchNormalization\n",
        "from tensorflow.keras.optimizers import Adam"
      ]
    },
    {
      "cell_type": "markdown",
      "metadata": {
        "id": "D2WVw2iJ-iPf"
      },
      "source": [
        "# Importando dados"
      ]
    },
    {
      "cell_type": "markdown",
      "metadata": {
        "id": "rxJzwLQB-leO"
      },
      "source": [
        "Aqui usaremos o dataset cifar10 (https://www.tensorflow.org/datasets/catalog/cifar10?hl=pt-br). O conjunto de dados CIFAR-10 consiste em 60.000 imagens coloridas 32x32 em 10 classes, com 6.000 imagens por classe. Existem 50.000 imagens de treinamento e 10.000 imagens de teste."
      ]
    },
    {
      "cell_type": "code",
      "execution_count": null,
      "metadata": {
        "id": "0oTJGJS7_oQq",
        "colab": {
          "base_uri": "https://localhost:8080/"
        },
        "outputId": "a34052d3-4570-4a89-dc9e-5af27afed7eb"
      },
      "outputs": [
        {
          "output_type": "stream",
          "name": "stdout",
          "text": [
            "Downloading data from https://www.cs.toronto.edu/~kriz/cifar-10-python.tar.gz\n",
            "170498071/170498071 [==============================] - 4s 0us/step\n"
          ]
        }
      ],
      "source": [
        "# carregando dataset\n",
        "(trainX, trainY), (testX, testY) = cifar10.load_data()"
      ]
    },
    {
      "cell_type": "markdown",
      "metadata": {
        "id": "OnIgJaRcX-oH"
      },
      "source": [
        "Faremos algumas adequações para que os dados sejam usados no modelo de CNN. Basicamente, colocamos os valores dos pixels em uma escala de 0 a 1, visto que os valores originais dos pixels das imagens correspondem a uma escala de 0 a 255. Também transformamos nossa variável alvo em uma codificação one-hos"
      ]
    },
    {
      "cell_type": "code",
      "execution_count": null,
      "metadata": {
        "id": "6sdeuEG4zNqp",
        "colab": {
          "base_uri": "https://localhost:8080/",
          "height": 430
        },
        "outputId": "4e9f91f5-1b2d-4c5f-abea-078063a30dd1"
      },
      "outputs": [
        {
          "output_type": "display_data",
          "data": {
            "text/plain": [
              "<Figure size 640x480 with 1 Axes>"
            ],
            "image/png": "[encoded data removed]"
          },
          "metadata": {}
        }
      ],
      "source": [
        "plt.imshow(trainX[5]);"
      ]
    },
    {
      "cell_type": "code",
      "execution_count": null,
      "metadata": {
        "id": "fIhMNN9u8063"
      },
      "outputs": [],
      "source": [
        "# fazendo um reshape no dataset para ter um único canal\n",
        "trainX = trainX.reshape((trainX.shape[0], 32, 32, 3))\n",
        "testX = testX.reshape((testX.shape[0], 32, 32, 3))\n",
        "\n",
        "# Convertendo valores dos pixels em float\n",
        "trainX = trainX.astype('float32')\n",
        "testX = testX.astype('float32')\n",
        "\n",
        "# normalização para escala [0-1]\n",
        "trainX = trainX / 255.0\n",
        "testX = testX / 255.0\n",
        "\n",
        "# transformando a variável alvo (target) para uma codificação one hot\n",
        "trainY = to_categorical(trainY)\n",
        "testY = to_categorical(testY)"
      ]
    },
    {
      "cell_type": "markdown",
      "metadata": {
        "id": "4yIlMtBSYkCQ"
      },
      "source": [
        "# Construindo o modelo"
      ]
    },
    {
      "cell_type": "markdown",
      "metadata": {
        "id": "L6qv-wkKZL3a"
      },
      "source": [
        "O modelo usado será bem simples:\n",
        "* Uma única camada convolucional com 32 filtros de tamanho 3 x 3 e função de ativação ReLU\n",
        "* Camada MaxPooling para redução de dimensionalidade\n",
        "* Transformação do resultado em um vetor\n",
        "* Camada totalmente conectada com 100 neurônios e função de ativação ReLU\n",
        "* Camada de saída softmax para estimar a probabilidade da entrada da rede pertencer a cada uma das 10 classes (dígitos 0 a 9)\n",
        "\n",
        "\n",
        "Para treinamento do modelo, usaremos o algoritmo de otimização clássico do gradiente descendente estocástico (SDG), com a função objetiva como a entropia cruzada categórica. Nossa principal métrica de desempenho será a acurácia"
      ]
    },
    {
      "cell_type": "code",
      "execution_count": null,
      "metadata": {
        "id": "suXiZFlbAmmi"
      },
      "outputs": [],
      "source": [
        "# definindo modelo\n",
        "def define_model():\n",
        "  model = Sequential()\n",
        "  model.add(Conv2D(32, (3, 3), activation='relu', input_shape=(32, 32, 3)))\n",
        "  model.add(BatchNormalization())\n",
        "  model.add(MaxPooling2D((2, 2)))\n",
        "  model.add(Flatten())\n",
        "  model.add(Dense(100, activation='relu'))\n",
        "  model.add(Dense(10, activation='softmax'))\n",
        "\n",
        "  # compilando modelo\n",
        "  opt = Adam(learning_rate=0.001)\n",
        "  model.compile(optimizer=opt, loss='categorical_crossentropy', metrics=['accuracy'])\n",
        "  return model"
      ]
    },
    {
      "cell_type": "markdown",
      "metadata": {
        "id": "S5fX2TpPaj77"
      },
      "source": [
        "# Treinamento do modelo"
      ]
    },
    {
      "cell_type": "markdown",
      "metadata": {
        "id": "GetQJUegap4f"
      },
      "source": [
        "O treinamento será realizado usando o método da validação cruzada k-partições (k-fold) com k=5. Tal validação cruzada faz a divisão dos dados em 5 grupos de tamanho igual, sendo realizadas 5 treinamentos distintos. A cada treinamento, 4 grupos de dados são utilizados para treinar o modelo e o grupo remanescente é usado para teste do desempenho do modelo treinado.\n",
        "\n",
        "\n",
        "\n",
        "* O principal intuito da validação k-fold é acessar a incerteza do desempenho do modelo"
      ]
    },
    {
      "cell_type": "code",
      "execution_count": null,
      "metadata": {
        "id": "WVsFpMjYkZ7f"
      },
      "outputs": [],
      "source": [
        "callback = tf.keras.callbacks.EarlyStopping(monitor='val_loss', patience=3, restore_best_weights=True)"
      ]
    },
    {
      "cell_type": "code",
      "execution_count": null,
      "metadata": {
        "colab": {
          "base_uri": "https://localhost:8080/",
          "height": 1000
        },
        "id": "vNMJ1WpeUNgp",
        "outputId": "893b5e40-bf68-4b08-f0b6-3fd1fea2640f"
      },
      "outputs": [
        {
          "output_type": "stream",
          "name": "stdout",
          "text": [
            "Epoch 1/10\n",
            "1250/1250 [==============================] - 60s 47ms/step - loss: 1.3673 - accuracy: 0.5200 - val_loss: 1.3912 - val_accuracy: 0.5341\n",
            "Epoch 2/10\n",
            "1250/1250 [==============================] - 58s 46ms/step - loss: 0.9948 - accuracy: 0.6515 - val_loss: 1.0818 - val_accuracy: 0.6242\n",
            "Epoch 3/10\n",
            "1250/1250 [==============================] - 56s 45ms/step - loss: 0.7951 - accuracy: 0.7200 - val_loss: 1.1190 - val_accuracy: 0.6236\n",
            "Epoch 4/10\n",
            "1250/1250 [==============================] - 58s 47ms/step - loss: 0.6202 - accuracy: 0.7836 - val_loss: 1.3247 - val_accuracy: 0.5996\n",
            "Epoch 5/10\n",
            "1250/1250 [==============================] - 54s 43ms/step - loss: 0.4695 - accuracy: 0.8368 - val_loss: 1.5421 - val_accuracy: 0.6016\n",
            "Epoch 6/10\n",
            "1250/1250 [==============================] - 56s 45ms/step - loss: 0.3502 - accuracy: 0.8793 - val_loss: 1.6341 - val_accuracy: 0.6007\n",
            "Epoch 7/10\n",
            "1250/1250 [==============================] - 54s 43ms/step - loss: 0.2632 - accuracy: 0.9085 - val_loss: 1.8909 - val_accuracy: 0.6020\n",
            "Epoch 8/10\n",
            "1250/1250 [==============================] - 52s 41ms/step - loss: 0.2039 - accuracy: 0.9302 - val_loss: 2.0987 - val_accuracy: 0.5961\n",
            "Epoch 9/10\n",
            "1250/1250 [==============================] - 61s 48ms/step - loss: 0.1755 - accuracy: 0.9398 - val_loss: 2.5895 - val_accuracy: 0.5845\n",
            "Epoch 10/10\n",
            "1250/1250 [==============================] - 58s 46ms/step - loss: 0.1515 - accuracy: 0.9477 - val_loss: 2.6379 - val_accuracy: 0.5669\n",
            "> 56.690\n",
            "Epoch 1/10\n",
            "1250/1250 [==============================] - 58s 45ms/step - loss: 1.3991 - accuracy: 0.5112 - val_loss: 1.2894 - val_accuracy: 0.5557\n",
            "Epoch 2/10\n",
            "1250/1250 [==============================] - 56s 45ms/step - loss: 1.0256 - accuracy: 0.6412 - val_loss: 1.2703 - val_accuracy: 0.5760\n",
            "Epoch 3/10\n",
            "1250/1250 [==============================] - 56s 44ms/step - loss: 0.8233 - accuracy: 0.7149 - val_loss: 1.2776 - val_accuracy: 0.5854\n",
            "Epoch 4/10\n",
            "1250/1250 [==============================] - 59s 48ms/step - loss: 0.6407 - accuracy: 0.7768 - val_loss: 1.3383 - val_accuracy: 0.6001\n",
            "Epoch 5/10\n",
            "1250/1250 [==============================] - 58s 47ms/step - loss: 0.4828 - accuracy: 0.8325 - val_loss: 1.3775 - val_accuracy: 0.6265\n",
            "Epoch 6/10\n",
            "1250/1250 [==============================] - 58s 47ms/step - loss: 0.3557 - accuracy: 0.8794 - val_loss: 1.6366 - val_accuracy: 0.6029\n",
            "Epoch 7/10\n",
            "1250/1250 [==============================] - 56s 45ms/step - loss: 0.2623 - accuracy: 0.9105 - val_loss: 1.6426 - val_accuracy: 0.6212\n",
            "Epoch 8/10\n",
            "1250/1250 [==============================] - 58s 46ms/step - loss: 0.2116 - accuracy: 0.9280 - val_loss: 2.1833 - val_accuracy: 0.5991\n",
            "Epoch 9/10\n",
            "1250/1250 [==============================] - 60s 48ms/step - loss: 0.1683 - accuracy: 0.9431 - val_loss: 2.1626 - val_accuracy: 0.6156\n",
            "Epoch 10/10\n",
            "1250/1250 [==============================] - 55s 44ms/step - loss: 0.1539 - accuracy: 0.9475 - val_loss: 2.5922 - val_accuracy: 0.5968\n",
            "> 59.680\n",
            "Epoch 1/10\n",
            "1250/1250 [==============================] - 60s 47ms/step - loss: 1.3621 - accuracy: 0.5203 - val_loss: 1.3838 - val_accuracy: 0.5269\n",
            "Epoch 2/10\n",
            "1250/1250 [==============================] - 55s 44ms/step - loss: 0.9954 - accuracy: 0.6496 - val_loss: 1.4012 - val_accuracy: 0.5306\n",
            "Epoch 3/10\n",
            "1250/1250 [==============================] - 55s 44ms/step - loss: 0.7785 - accuracy: 0.7260 - val_loss: 1.1400 - val_accuracy: 0.6153\n",
            "Epoch 4/10\n",
            "1250/1250 [==============================] - 55s 44ms/step - loss: 0.5953 - accuracy: 0.7893 - val_loss: 1.2055 - val_accuracy: 0.6273\n",
            "Epoch 5/10\n",
            "1250/1250 [==============================] - 57s 46ms/step - loss: 0.4349 - accuracy: 0.8477 - val_loss: 1.4452 - val_accuracy: 0.6226\n",
            "Epoch 6/10\n",
            "1250/1250 [==============================] - 57s 46ms/step - loss: 0.3184 - accuracy: 0.8902 - val_loss: 1.8971 - val_accuracy: 0.5649\n",
            "Epoch 7/10\n",
            "1250/1250 [==============================] - 57s 45ms/step - loss: 0.2410 - accuracy: 0.9176 - val_loss: 1.9993 - val_accuracy: 0.6074\n",
            "Epoch 8/10\n",
            "1250/1250 [==============================] - 57s 45ms/step - loss: 0.1934 - accuracy: 0.9340 - val_loss: 2.1548 - val_accuracy: 0.6100\n",
            "Epoch 9/10\n",
            "1250/1250 [==============================] - 59s 47ms/step - loss: 0.1611 - accuracy: 0.9455 - val_loss: 2.1609 - val_accuracy: 0.6049\n",
            "Epoch 10/10\n",
            "1250/1250 [==============================] - 54s 43ms/step - loss: 0.1423 - accuracy: 0.9508 - val_loss: 2.6962 - val_accuracy: 0.5957\n",
            "> 59.570\n",
            "Epoch 1/10\n",
            "1250/1250 [==============================] - 62s 48ms/step - loss: 1.3617 - accuracy: 0.5210 - val_loss: 1.3085 - val_accuracy: 0.5472\n",
            "Epoch 2/10\n",
            "1250/1250 [==============================] - 61s 49ms/step - loss: 0.9863 - accuracy: 0.6533 - val_loss: 1.1965 - val_accuracy: 0.5890\n",
            "Epoch 3/10\n",
            "1250/1250 [==============================] - 57s 46ms/step - loss: 0.7851 - accuracy: 0.7225 - val_loss: 1.2924 - val_accuracy: 0.5676\n",
            "Epoch 4/10\n",
            "1250/1250 [==============================] - 55s 44ms/step - loss: 0.6076 - accuracy: 0.7865 - val_loss: 1.4744 - val_accuracy: 0.5908\n",
            "Epoch 5/10\n",
            "1250/1250 [==============================] - 56s 44ms/step - loss: 0.4533 - accuracy: 0.8402 - val_loss: 1.3940 - val_accuracy: 0.6086\n",
            "Epoch 6/10\n",
            "1250/1250 [==============================] - 55s 44ms/step - loss: 0.3331 - accuracy: 0.8838 - val_loss: 1.7573 - val_accuracy: 0.6060\n",
            "Epoch 7/10\n",
            "1250/1250 [==============================] - 57s 46ms/step - loss: 0.2555 - accuracy: 0.9137 - val_loss: 2.1034 - val_accuracy: 0.5650\n",
            "Epoch 8/10\n",
            "1250/1250 [==============================] - 55s 44ms/step - loss: 0.2070 - accuracy: 0.9286 - val_loss: 2.1353 - val_accuracy: 0.6086\n",
            "Epoch 9/10\n",
            "1250/1250 [==============================] - 56s 45ms/step - loss: 0.1700 - accuracy: 0.9409 - val_loss: 2.5412 - val_accuracy: 0.5882\n",
            "Epoch 10/10\n",
            "1250/1250 [==============================] - 58s 47ms/step - loss: 0.1450 - accuracy: 0.9511 - val_loss: 2.4464 - val_accuracy: 0.6042\n",
            "> 60.420\n",
            "Epoch 1/10\n",
            "1250/1250 [==============================] - 62s 49ms/step - loss: 1.3505 - accuracy: 0.5274 - val_loss: 1.5970 - val_accuracy: 0.4975\n",
            "Epoch 2/10\n",
            "1250/1250 [==============================] - 58s 47ms/step - loss: 0.9781 - accuracy: 0.6590 - val_loss: 1.1678 - val_accuracy: 0.6047\n",
            "Epoch 3/10\n",
            "1250/1250 [==============================] - 61s 48ms/step - loss: 0.7781 - accuracy: 0.7254 - val_loss: 1.4758 - val_accuracy: 0.5240\n",
            "Epoch 4/10\n",
            "1250/1250 [==============================] - 58s 46ms/step - loss: 0.6046 - accuracy: 0.7882 - val_loss: 2.2385 - val_accuracy: 0.4761\n",
            "Epoch 5/10\n",
            "1250/1250 [==============================] - 61s 49ms/step - loss: 0.4535 - accuracy: 0.8422 - val_loss: 1.4837 - val_accuracy: 0.6089\n",
            "Epoch 6/10\n",
            "1250/1250 [==============================] - 59s 47ms/step - loss: 0.3301 - accuracy: 0.8865 - val_loss: 1.5365 - val_accuracy: 0.6062\n",
            "Epoch 7/10\n",
            "1250/1250 [==============================] - 60s 48ms/step - loss: 0.2525 - accuracy: 0.9137 - val_loss: 1.8902 - val_accuracy: 0.6122\n",
            "Epoch 8/10\n",
            "1250/1250 [==============================] - 60s 48ms/step - loss: 0.2005 - accuracy: 0.9322 - val_loss: 2.2079 - val_accuracy: 0.6016\n",
            "Epoch 9/10\n",
            "1250/1250 [==============================] - 57s 46ms/step - loss: 0.1718 - accuracy: 0.9428 - val_loss: 2.3289 - val_accuracy: 0.5992\n",
            "Epoch 10/10\n",
            "1250/1250 [==============================] - 61s 49ms/step - loss: 0.1461 - accuracy: 0.9507 - val_loss: 3.2408 - val_accuracy: 0.5832\n",
            "> 58.320\n",
            "Acurácia: média=58.936 desvio=1.310\n"
          ]
        },
        {
          "output_type": "display_data",
          "data": {
            "text/plain": [
              "<Figure size 640x480 with 1 Axes>"
            ],
            "image/png": "[encoded data removed]"
          },
          "metadata": {}
        }
      ],
      "source": [
        "scores = []\n",
        "histories = []\n",
        "\n",
        "# definindo a validação k-fold\n",
        "kfold = KFold(5, shuffle=True, random_state=1)\n",
        "\n",
        "# loop para as k-folds (cada fold usa subconjuntos de treino e teste diferentes)\n",
        "for train_ix, test_ix in kfold.split(trainX):\n",
        "\n",
        "  model = define_model()\n",
        "\n",
        "  # recorta dados de acordo com índices da k-fold\n",
        "  train_data, train_target, val_data, val_target = trainX[train_ix], trainY[train_ix], trainX[test_ix], trainY[test_ix]\n",
        "\n",
        "  # treinamento do modelo\n",
        "  history = model.fit(train_data, train_target,\n",
        "                      epochs=10, batch_size=32,\n",
        "                      validation_data=(val_data, val_target),\n",
        "                      verbose=1)\n",
        "\n",
        "  # desempenho do modelo\n",
        "  _, acc = model.evaluate(val_data, val_target, verbose=0)\n",
        "  print('> %.3f' % (acc * 100.0))\n",
        "\n",
        "  # armazena resultados de cada modelo treinado dentro da k-fold\n",
        "  scores.append(acc)\n",
        "  histories.append(history)\n",
        "\n",
        "print('Acurácia: média=%.3f desvio=%.3f' % (np.mean(scores)*100, np.std(scores)*100))\n",
        "plt.boxplot(scores)\n",
        "plt.show()"
      ]
    },
    {
      "cell_type": "markdown",
      "metadata": {
        "id": "vQrS59lcrDGb"
      },
      "source": [
        "# Testando modelo no conjunto de teste"
      ]
    },
    {
      "cell_type": "markdown",
      "metadata": {
        "id": "g04X5n32rHye"
      },
      "source": [
        "Agora avaliaremos o desempenho do modelo em dados do conjunto de teste separado nas etapas iniciais deste exercício\n",
        "* Abaixo temos a primeira imagem do conjunto de teste"
      ]
    },
    {
      "cell_type": "code",
      "execution_count": null,
      "metadata": {
        "colab": {
          "base_uri": "https://localhost:8080/",
          "height": 430
        },
        "id": "-kQjP09ZfjEF",
        "outputId": "1e416d18-e06e-43ae-9d89-a22bc0107357"
      },
      "outputs": [
        {
          "output_type": "display_data",
          "data": {
            "text/plain": [
              "<Figure size 640x480 with 1 Axes>"
            ],
            "image/png": "[encoded data removed]"
          },
          "metadata": {}
        }
      ],
      "source": [
        "plt.imshow(testX[6,:,:,0]);"
      ]
    },
    {
      "cell_type": "markdown",
      "metadata": {
        "id": "d6YTsHbArbLs"
      },
      "source": [
        "Usaremos o último modelo treinado na validação cruzada k-fold para classificar a imagem.\n",
        "\n",
        "* temos que fazer uma expansão de dimensão para que nossa imagem tenha um formato 1 x 32 x 32 x 3. Isso é necessário pois treinamos nosso modelo usando mini conjuntos de imagens (como nosso batch size era de 32, o formato passado para o modelo a cada passo de treinamento era 32 x 32 x 32 x 3)"
      ]
    },
    {
      "cell_type": "code",
      "execution_count": null,
      "metadata": {
        "colab": {
          "base_uri": "https://localhost:8080/"
        },
        "id": "Q_MpGPWwfnGE",
        "outputId": "fd650892-5cc4-4da6-e896-6475dace0331"
      },
      "outputs": [
        {
          "output_type": "stream",
          "name": "stdout",
          "text": [
            "1/1 [==============================] - 0s 122ms/step\n"
          ]
        },
        {
          "output_type": "execute_result",
          "data": {
            "text/plain": [
              "1"
            ]
          },
          "metadata": {},
          "execution_count": 9
        }
      ],
      "source": [
        "np.argmax(model.predict(np.expand_dims(testX[6], axis=0)))"
      ]
    },
    {
      "cell_type": "markdown",
      "source": [
        "Utilizando exatamente a mesma rede do exemplo os resultados foram:\n",
        "  \n",
        "  - Acurácia: média=58.936 desvio=1.310\n",
        "\n",
        "No banco de dados do exemplo, a acurácia média foi de aproximadamente 98, um resultado muito superior, o que indica que a rede se comporta melhor com dados com as características dos do exemplo do que com os propostos pelo exercício.\n",
        "\n",
        "### Agora, adicionando mais dois blocos de camadas Conv2D (64 filtros 3x3 - relu) + MaxPooling (2 x 2) antes da camada Flatten."
      ],
      "metadata": {
        "id": "HHlt6eM63UY9"
      }
    },
    {
      "cell_type": "code",
      "execution_count": null,
      "metadata": {
        "id": "-7aTsAUgH50g"
      },
      "outputs": [],
      "source": [
        "# definindo modelo\n",
        "def define_model():\n",
        "  model = Sequential()\n",
        "  model.add(Conv2D(32, (3, 3), activation='relu', input_shape=(32, 32, 3)))\n",
        "  model.add(BatchNormalization())\n",
        "  model.add(MaxPooling2D((2, 2)))\n",
        "\n",
        "  model.add(Conv2D(64, (3, 3), activation='relu', input_shape=(32, 32, 3)))\n",
        "  model.add(MaxPooling2D((2, 2)))\n",
        "\n",
        "  model.add(Conv2D(64, (3, 3), activation='relu', input_shape=(32, 32, 3)))\n",
        "  model.add(MaxPooling2D((2, 2)))\n",
        "\n",
        "  model.add(Flatten())\n",
        "  model.add(Dense(100, activation='relu'))\n",
        "  model.add(Dense(10, activation='softmax'))\n",
        "\n",
        "  # compilando modelo\n",
        "  opt = Adam(learning_rate=0.001)\n",
        "  model.compile(optimizer=opt, loss='categorical_crossentropy', metrics=['accuracy'])\n",
        "  return model"
      ]
    },
    {
      "cell_type": "markdown",
      "source": [
        "Treinando o modelo novamente"
      ],
      "metadata": {
        "id": "QACBlqJLIjIb"
      }
    },
    {
      "cell_type": "code",
      "execution_count": null,
      "metadata": {
        "id": "nx8-cZFiIWKg"
      },
      "outputs": [],
      "source": [
        "callback = tf.keras.callbacks.EarlyStopping(monitor='val_loss', patience=3, restore_best_weights=True)"
      ]
    },
    {
      "cell_type": "code",
      "execution_count": null,
      "metadata": {
        "colab": {
          "base_uri": "https://localhost:8080/",
          "height": 1000
        },
        "outputId": "389d8fec-6dc3-4623-edda-491fc9febc37",
        "id": "7hf5bcmiIaaG"
      },
      "outputs": [
        {
          "output_type": "stream",
          "name": "stdout",
          "text": [
            "Epoch 1/10\n",
            "1250/1250 [==============================] - 80s 63ms/step - loss: 1.4410 - accuracy: 0.4806 - val_loss: 1.2338 - val_accuracy: 0.5611\n",
            "Epoch 2/10\n",
            "1250/1250 [==============================] - 78s 63ms/step - loss: 1.0929 - accuracy: 0.6143 - val_loss: 1.0489 - val_accuracy: 0.6287\n",
            "Epoch 3/10\n",
            "1250/1250 [==============================] - 80s 64ms/step - loss: 0.9421 - accuracy: 0.6698 - val_loss: 1.1014 - val_accuracy: 0.6159\n",
            "Epoch 4/10\n",
            "1250/1250 [==============================] - 83s 66ms/step - loss: 0.8464 - accuracy: 0.7041 - val_loss: 0.8918 - val_accuracy: 0.6875\n",
            "Epoch 5/10\n",
            "1250/1250 [==============================] - 78s 62ms/step - loss: 0.7718 - accuracy: 0.7307 - val_loss: 0.9572 - val_accuracy: 0.6677\n",
            "Epoch 6/10\n",
            "1250/1250 [==============================] - 82s 66ms/step - loss: 0.7084 - accuracy: 0.7508 - val_loss: 1.0170 - val_accuracy: 0.6609\n",
            "Epoch 7/10\n",
            "1250/1250 [==============================] - 78s 62ms/step - loss: 0.6519 - accuracy: 0.7708 - val_loss: 0.9285 - val_accuracy: 0.6952\n",
            "Epoch 8/10\n",
            "1250/1250 [==============================] - 81s 65ms/step - loss: 0.6100 - accuracy: 0.7859 - val_loss: 0.9719 - val_accuracy: 0.6851\n",
            "Epoch 9/10\n",
            "1250/1250 [==============================] - 77s 61ms/step - loss: 0.5648 - accuracy: 0.8014 - val_loss: 0.9464 - val_accuracy: 0.6935\n",
            "Epoch 10/10\n",
            "1250/1250 [==============================] - 84s 67ms/step - loss: 0.5215 - accuracy: 0.8164 - val_loss: 1.0212 - val_accuracy: 0.6877\n",
            "> 68.770\n",
            "Epoch 1/10\n",
            "1250/1250 [==============================] - 78s 61ms/step - loss: 1.4381 - accuracy: 0.4789 - val_loss: 1.3892 - val_accuracy: 0.5132\n",
            "Epoch 2/10\n",
            "1250/1250 [==============================] - 78s 63ms/step - loss: 1.0945 - accuracy: 0.6129 - val_loss: 1.1993 - val_accuracy: 0.5757\n",
            "Epoch 3/10\n",
            "1250/1250 [==============================] - 80s 64ms/step - loss: 0.9356 - accuracy: 0.6716 - val_loss: 0.9918 - val_accuracy: 0.6556\n",
            "Epoch 4/10\n",
            "1250/1250 [==============================] - 77s 62ms/step - loss: 0.8376 - accuracy: 0.7066 - val_loss: 1.0199 - val_accuracy: 0.6456\n",
            "Epoch 5/10\n",
            "1250/1250 [==============================] - 84s 67ms/step - loss: 0.7585 - accuracy: 0.7350 - val_loss: 1.0711 - val_accuracy: 0.6359\n",
            "Epoch 6/10\n",
            "1250/1250 [==============================] - 83s 66ms/step - loss: 0.6985 - accuracy: 0.7542 - val_loss: 1.0588 - val_accuracy: 0.6424\n",
            "Epoch 7/10\n",
            "1250/1250 [==============================] - 78s 63ms/step - loss: 0.6513 - accuracy: 0.7712 - val_loss: 0.8993 - val_accuracy: 0.6936\n",
            "Epoch 8/10\n",
            "1250/1250 [==============================] - 83s 66ms/step - loss: 0.6020 - accuracy: 0.7876 - val_loss: 0.8955 - val_accuracy: 0.7064\n",
            "Epoch 9/10\n",
            "1250/1250 [==============================] - 77s 62ms/step - loss: 0.5616 - accuracy: 0.8015 - val_loss: 0.9876 - val_accuracy: 0.6812\n",
            "Epoch 10/10\n",
            "1250/1250 [==============================] - 76s 61ms/step - loss: 0.5264 - accuracy: 0.8134 - val_loss: 1.0410 - val_accuracy: 0.6791\n",
            "> 67.910\n",
            "Epoch 1/10\n",
            "1250/1250 [==============================] - 78s 61ms/step - loss: 1.4288 - accuracy: 0.4841 - val_loss: 1.3470 - val_accuracy: 0.5273\n",
            "Epoch 2/10\n",
            "1250/1250 [==============================] - 77s 62ms/step - loss: 1.0818 - accuracy: 0.6170 - val_loss: 1.2354 - val_accuracy: 0.5806\n",
            "Epoch 3/10\n",
            "1250/1250 [==============================] - 84s 67ms/step - loss: 0.9292 - accuracy: 0.6729 - val_loss: 0.9696 - val_accuracy: 0.6625\n",
            "Epoch 4/10\n",
            "1250/1250 [==============================] - 74s 60ms/step - loss: 0.8282 - accuracy: 0.7086 - val_loss: 0.9411 - val_accuracy: 0.6781\n",
            "Epoch 5/10\n",
            "1250/1250 [==============================] - 78s 62ms/step - loss: 0.7444 - accuracy: 0.7388 - val_loss: 1.0614 - val_accuracy: 0.6429\n",
            "Epoch 6/10\n",
            "1250/1250 [==============================] - 80s 64ms/step - loss: 0.6862 - accuracy: 0.7600 - val_loss: 1.2578 - val_accuracy: 0.6090\n",
            "Epoch 7/10\n",
            "1250/1250 [==============================] - 77s 61ms/step - loss: 0.6346 - accuracy: 0.7797 - val_loss: 0.9246 - val_accuracy: 0.6921\n",
            "Epoch 8/10\n",
            "1250/1250 [==============================] - 82s 65ms/step - loss: 0.5832 - accuracy: 0.7937 - val_loss: 0.9672 - val_accuracy: 0.6940\n",
            "Epoch 9/10\n",
            "1250/1250 [==============================] - 76s 61ms/step - loss: 0.5426 - accuracy: 0.8083 - val_loss: 0.9645 - val_accuracy: 0.6920\n",
            "Epoch 10/10\n",
            "1250/1250 [==============================] - 76s 61ms/step - loss: 0.5079 - accuracy: 0.8206 - val_loss: 1.1215 - val_accuracy: 0.6672\n",
            "> 66.720\n",
            "Epoch 1/10\n",
            "1250/1250 [==============================] - 78s 61ms/step - loss: 1.4180 - accuracy: 0.4879 - val_loss: 1.3515 - val_accuracy: 0.5098\n",
            "Epoch 2/10\n",
            "1250/1250 [==============================] - 75s 60ms/step - loss: 1.0846 - accuracy: 0.6165 - val_loss: 1.1664 - val_accuracy: 0.5919\n",
            "Epoch 3/10\n",
            "1250/1250 [==============================] - 77s 62ms/step - loss: 0.9337 - accuracy: 0.6708 - val_loss: 1.0645 - val_accuracy: 0.6322\n",
            "Epoch 4/10\n",
            "1250/1250 [==============================] - 75s 60ms/step - loss: 0.8316 - accuracy: 0.7099 - val_loss: 1.1567 - val_accuracy: 0.6167\n",
            "Epoch 5/10\n",
            "1250/1250 [==============================] - 79s 63ms/step - loss: 0.7547 - accuracy: 0.7371 - val_loss: 0.9577 - val_accuracy: 0.6728\n",
            "Epoch 6/10\n",
            "1250/1250 [==============================] - 75s 60ms/step - loss: 0.6903 - accuracy: 0.7599 - val_loss: 0.9925 - val_accuracy: 0.6703\n",
            "Epoch 7/10\n",
            "1250/1250 [==============================] - 80s 64ms/step - loss: 0.6409 - accuracy: 0.7747 - val_loss: 1.0096 - val_accuracy: 0.6641\n",
            "Epoch 8/10\n",
            "1250/1250 [==============================] - 77s 62ms/step - loss: 0.5871 - accuracy: 0.7910 - val_loss: 1.0459 - val_accuracy: 0.6605\n",
            "Epoch 9/10\n",
            "1250/1250 [==============================] - 74s 60ms/step - loss: 0.5496 - accuracy: 0.8058 - val_loss: 1.0265 - val_accuracy: 0.6831\n",
            "Epoch 10/10\n",
            "1250/1250 [==============================] - 78s 62ms/step - loss: 0.5097 - accuracy: 0.8218 - val_loss: 1.0062 - val_accuracy: 0.6893\n",
            "> 68.930\n",
            "Epoch 1/10\n",
            "1250/1250 [==============================] - 78s 61ms/step - loss: 1.4335 - accuracy: 0.4838 - val_loss: 1.3490 - val_accuracy: 0.5285\n",
            "Epoch 2/10\n",
            "1250/1250 [==============================] - 71s 56ms/step - loss: 1.0878 - accuracy: 0.6188 - val_loss: 1.4748 - val_accuracy: 0.5148\n",
            "Epoch 3/10\n",
            "1250/1250 [==============================] - 74s 59ms/step - loss: 0.9410 - accuracy: 0.6716 - val_loss: 1.0641 - val_accuracy: 0.6240\n",
            "Epoch 4/10\n",
            "1250/1250 [==============================] - 73s 58ms/step - loss: 0.8372 - accuracy: 0.7059 - val_loss: 1.1834 - val_accuracy: 0.6006\n",
            "Epoch 5/10\n",
            "1250/1250 [==============================] - 74s 59ms/step - loss: 0.7619 - accuracy: 0.7351 - val_loss: 1.0657 - val_accuracy: 0.6444\n",
            "Epoch 6/10\n",
            "1250/1250 [==============================] - 79s 63ms/step - loss: 0.6982 - accuracy: 0.7576 - val_loss: 1.0169 - val_accuracy: 0.6687\n",
            "Epoch 7/10\n",
            "1250/1250 [==============================] - 78s 62ms/step - loss: 0.6384 - accuracy: 0.7749 - val_loss: 1.2943 - val_accuracy: 0.6103\n",
            "Epoch 8/10\n",
            "1250/1250 [==============================] - 83s 67ms/step - loss: 0.5881 - accuracy: 0.7935 - val_loss: 0.9539 - val_accuracy: 0.6935\n",
            "Epoch 9/10\n",
            "1250/1250 [==============================] - 76s 61ms/step - loss: 0.5444 - accuracy: 0.8076 - val_loss: 1.0109 - val_accuracy: 0.6800\n",
            "Epoch 10/10\n",
            "1250/1250 [==============================] - 75s 60ms/step - loss: 0.4988 - accuracy: 0.8255 - val_loss: 1.3576 - val_accuracy: 0.6213\n",
            "> 62.130\n",
            "Acurácia: média=66.892 desvio=2.507\n"
          ]
        },
        {
          "output_type": "display_data",
          "data": {
            "text/plain": [
              "<Figure size 640x480 with 1 Axes>"
            ],
            "image/png": "[encoded data removed]"
          },
          "metadata": {}
        }
      ],
      "source": [
        "scores = []\n",
        "histories = []\n",
        "\n",
        "# definindo a validação k-fold\n",
        "kfold = KFold(5, shuffle=True, random_state=1)\n",
        "\n",
        "# loop para as k-folds (cada fold usa subconjuntos de treino e teste diferentes)\n",
        "for train_ix, test_ix in kfold.split(trainX):\n",
        "\n",
        "  model = define_model()\n",
        "\n",
        "  # recorta dados de acordo com índices da k-fold\n",
        "  train_data, train_target, val_data, val_target = trainX[train_ix], trainY[train_ix], trainX[test_ix], trainY[test_ix]\n",
        "\n",
        "  # treinamento do modelo\n",
        "  history = model.fit(train_data, train_target,\n",
        "                      epochs=10, batch_size=32,\n",
        "                      validation_data=(val_data, val_target),\n",
        "                      verbose=1)\n",
        "\n",
        "  # desempenho do modelo\n",
        "  _, acc = model.evaluate(val_data, val_target, verbose=0)\n",
        "  print('> %.3f' % (acc * 100.0))\n",
        "\n",
        "  # armazena resultados de cada modelo treinado dentro da k-fold\n",
        "  scores.append(acc)\n",
        "  histories.append(history)\n",
        "\n",
        "print('Acurácia: média=%.3f desvio=%.3f' % (np.mean(scores)*100, np.std(scores)*100))\n",
        "plt.boxplot(scores)\n",
        "plt.show()"
      ]
    },
    {
      "cell_type": "markdown",
      "source": [
        "O resultado foi:\n",
        "\n",
        "  - Acurácia: média=66.892 desvio=2.507\n",
        "\n",
        "Adicionar mais camadas convolucionais e de pooling permite que o modelo aprenda representações hierárquicas mais complexas das imagens, o que pode resultar em uma capacidade de generalização melhorada.\n",
        "\n",
        "### Agora, adicionando um Dropout de 20% após cada camada MaxPooling."
      ],
      "metadata": {
        "id": "ipOfahgrIt5K"
      }
    },
    {
      "cell_type": "code",
      "execution_count": null,
      "metadata": {
        "id": "O1iChkFwJHpP"
      },
      "outputs": [],
      "source": [
        "# definindo modelo\n",
        "def define_model():\n",
        "  model = Sequential()\n",
        "  model.add(Conv2D(32, (3, 3), activation='relu', input_shape=(32, 32, 3)))\n",
        "  model.add(BatchNormalization())\n",
        "  model.add(MaxPooling2D((2, 2)))\n",
        "  model.add(Dropout(0.2))\n",
        "\n",
        "  model.add(Conv2D(64, (3, 3), activation='relu', input_shape=(32, 32, 3)))\n",
        "  model.add(MaxPooling2D((2, 2)))\n",
        "  model.add(Dropout(0.2))\n",
        "\n",
        "  model.add(Conv2D(64, (3, 3), activation='relu', input_shape=(32, 32, 3)))\n",
        "  model.add(MaxPooling2D((2, 2)))\n",
        "  model.add(Dropout(0.2))\n",
        "\n",
        "  model.add(Flatten())\n",
        "  model.add(Dense(100, activation='relu'))\n",
        "  model.add(Dense(10, activation='softmax'))\n",
        "\n",
        "  # compilando modelo\n",
        "  opt = Adam(learning_rate=0.001)\n",
        "  model.compile(optimizer=opt, loss='categorical_crossentropy', metrics=['accuracy'])\n",
        "  return model"
      ]
    },
    {
      "cell_type": "markdown",
      "source": [
        "Treinando o modelo novamente"
      ],
      "metadata": {
        "id": "WYrwK5OUJotq"
      }
    },
    {
      "cell_type": "code",
      "execution_count": null,
      "metadata": {
        "id": "sKjjucxPJrwu"
      },
      "outputs": [],
      "source": [
        "callback = tf.keras.callbacks.EarlyStopping(monitor='val_loss', patience=3, restore_best_weights=True)"
      ]
    },
    {
      "cell_type": "code",
      "execution_count": null,
      "metadata": {
        "colab": {
          "base_uri": "https://localhost:8080/",
          "height": 1000
        },
        "id": "Wsc-JhAtJu43",
        "outputId": "f9491e1e-f118-4327-dad9-ee306abc5829"
      },
      "outputs": [
        {
          "output_type": "stream",
          "name": "stdout",
          "text": [
            "Epoch 1/10\n",
            "1250/1250 [==============================] - 93s 73ms/step - loss: 1.5980 - accuracy: 0.4145 - val_loss: 1.4383 - val_accuracy: 0.4856\n",
            "Epoch 2/10\n",
            "1250/1250 [==============================] - 80s 64ms/step - loss: 1.3004 - accuracy: 0.5340 - val_loss: 1.2367 - val_accuracy: 0.5665\n",
            "Epoch 3/10\n",
            "1250/1250 [==============================] - 82s 66ms/step - loss: 1.1767 - accuracy: 0.5824 - val_loss: 1.4642 - val_accuracy: 0.5138\n",
            "Epoch 4/10\n",
            "1250/1250 [==============================] - 81s 65ms/step - loss: 1.0971 - accuracy: 0.6124 - val_loss: 1.1170 - val_accuracy: 0.6117\n",
            "Epoch 5/10\n",
            "1250/1250 [==============================] - 83s 66ms/step - loss: 1.0454 - accuracy: 0.6305 - val_loss: 0.9350 - val_accuracy: 0.6748\n",
            "Epoch 6/10\n",
            "1250/1250 [==============================] - 81s 65ms/step - loss: 1.0014 - accuracy: 0.6454 - val_loss: 0.9416 - val_accuracy: 0.6674\n",
            "Epoch 7/10\n",
            "1250/1250 [==============================] - 88s 71ms/step - loss: 0.9675 - accuracy: 0.6590 - val_loss: 0.9326 - val_accuracy: 0.6753\n",
            "Epoch 8/10\n",
            "1250/1250 [==============================] - 83s 67ms/step - loss: 0.9352 - accuracy: 0.6721 - val_loss: 1.0486 - val_accuracy: 0.6404\n",
            "Epoch 9/10\n",
            "1250/1250 [==============================] - 79s 64ms/step - loss: 0.9182 - accuracy: 0.6772 - val_loss: 0.9609 - val_accuracy: 0.6756\n",
            "Epoch 10/10\n",
            "1250/1250 [==============================] - 82s 66ms/step - loss: 0.8962 - accuracy: 0.6862 - val_loss: 0.8909 - val_accuracy: 0.6930\n",
            "> 69.300\n",
            "Epoch 1/10\n",
            "1250/1250 [==============================] - 84s 66ms/step - loss: 1.6056 - accuracy: 0.4098 - val_loss: 1.4722 - val_accuracy: 0.4799\n",
            "Epoch 2/10\n",
            "1250/1250 [==============================] - 80s 64ms/step - loss: 1.3068 - accuracy: 0.5334 - val_loss: 1.1813 - val_accuracy: 0.5841\n",
            "Epoch 3/10\n",
            "1250/1250 [==============================] - 82s 66ms/step - loss: 1.1835 - accuracy: 0.5781 - val_loss: 1.2535 - val_accuracy: 0.5416\n",
            "Epoch 4/10\n",
            "1250/1250 [==============================] - 82s 65ms/step - loss: 1.1073 - accuracy: 0.6076 - val_loss: 1.0997 - val_accuracy: 0.6094\n",
            "Epoch 5/10\n",
            "1250/1250 [==============================] - 79s 63ms/step - loss: 1.0461 - accuracy: 0.6292 - val_loss: 1.0580 - val_accuracy: 0.6197\n",
            "Epoch 6/10\n",
            "1250/1250 [==============================] - 82s 66ms/step - loss: 0.9993 - accuracy: 0.6472 - val_loss: 0.9217 - val_accuracy: 0.6861\n",
            "Epoch 7/10\n",
            "1250/1250 [==============================] - 83s 67ms/step - loss: 0.9634 - accuracy: 0.6620 - val_loss: 1.0014 - val_accuracy: 0.6533\n",
            "Epoch 8/10\n",
            "1250/1250 [==============================] - 80s 64ms/step - loss: 0.9412 - accuracy: 0.6655 - val_loss: 0.9951 - val_accuracy: 0.6527\n",
            "Epoch 9/10\n",
            "1250/1250 [==============================] - 82s 65ms/step - loss: 0.9195 - accuracy: 0.6769 - val_loss: 0.8389 - val_accuracy: 0.7072\n",
            "Epoch 10/10\n",
            "1250/1250 [==============================] - 82s 65ms/step - loss: 0.8836 - accuracy: 0.6888 - val_loss: 0.8573 - val_accuracy: 0.6976\n",
            "> 69.760\n",
            "Epoch 1/10\n",
            "1250/1250 [==============================] - 85s 65ms/step - loss: 1.6150 - accuracy: 0.4082 - val_loss: 1.6218 - val_accuracy: 0.4225\n",
            "Epoch 2/10\n",
            "1250/1250 [==============================] - 88s 70ms/step - loss: 1.3105 - accuracy: 0.5307 - val_loss: 1.1770 - val_accuracy: 0.5911\n",
            "Epoch 3/10\n",
            "1250/1250 [==============================] - 81s 65ms/step - loss: 1.1910 - accuracy: 0.5783 - val_loss: 1.0887 - val_accuracy: 0.6174\n",
            "Epoch 4/10\n",
            "1250/1250 [==============================] - 81s 65ms/step - loss: 1.1009 - accuracy: 0.6112 - val_loss: 1.0473 - val_accuracy: 0.6326\n",
            "Epoch 5/10\n",
            "1250/1250 [==============================] - 86s 69ms/step - loss: 1.0450 - accuracy: 0.6316 - val_loss: 1.0186 - val_accuracy: 0.6483\n",
            "Epoch 6/10\n",
            "1250/1250 [==============================] - 84s 67ms/step - loss: 1.0068 - accuracy: 0.6471 - val_loss: 0.9478 - val_accuracy: 0.6728\n",
            "Epoch 7/10\n",
            "1250/1250 [==============================] - 81s 65ms/step - loss: 0.9658 - accuracy: 0.6600 - val_loss: 0.9281 - val_accuracy: 0.6778\n",
            "Epoch 8/10\n",
            "1250/1250 [==============================] - 91s 73ms/step - loss: 0.9349 - accuracy: 0.6693 - val_loss: 0.9788 - val_accuracy: 0.6546\n",
            "Epoch 9/10\n",
            "1250/1250 [==============================] - 87s 69ms/step - loss: 0.9073 - accuracy: 0.6825 - val_loss: 0.8797 - val_accuracy: 0.6962\n",
            "Epoch 10/10\n",
            "1250/1250 [==============================] - 87s 69ms/step - loss: 0.8886 - accuracy: 0.6894 - val_loss: 0.9549 - val_accuracy: 0.6708\n",
            "> 67.080\n",
            "Epoch 1/10\n",
            "1250/1250 [==============================] - 87s 68ms/step - loss: 1.5841 - accuracy: 0.4218 - val_loss: 1.3487 - val_accuracy: 0.5169\n",
            "Epoch 2/10\n",
            "1250/1250 [==============================] - 83s 66ms/step - loss: 1.2862 - accuracy: 0.5412 - val_loss: 1.3995 - val_accuracy: 0.5200\n",
            "Epoch 3/10\n",
            "1250/1250 [==============================] - 91s 73ms/step - loss: 1.1665 - accuracy: 0.5848 - val_loss: 1.1358 - val_accuracy: 0.6015\n",
            "Epoch 4/10\n",
            "1250/1250 [==============================] - 88s 70ms/step - loss: 1.0813 - accuracy: 0.6137 - val_loss: 1.0293 - val_accuracy: 0.6381\n",
            "Epoch 5/10\n",
            "1250/1250 [==============================] - 89s 71ms/step - loss: 1.0340 - accuracy: 0.6324 - val_loss: 1.1211 - val_accuracy: 0.6070\n",
            "Epoch 6/10\n",
            "1250/1250 [==============================] - 89s 71ms/step - loss: 0.9904 - accuracy: 0.6526 - val_loss: 0.9773 - val_accuracy: 0.6507\n",
            "Epoch 7/10\n",
            "1250/1250 [==============================] - 88s 71ms/step - loss: 0.9597 - accuracy: 0.6622 - val_loss: 1.0957 - val_accuracy: 0.6219\n",
            "Epoch 8/10\n",
            "1250/1250 [==============================] - 87s 70ms/step - loss: 0.9341 - accuracy: 0.6689 - val_loss: 0.9869 - val_accuracy: 0.6591\n",
            "Epoch 9/10\n",
            "1250/1250 [==============================] - 87s 70ms/step - loss: 0.9137 - accuracy: 0.6767 - val_loss: 0.9211 - val_accuracy: 0.6949\n",
            "Epoch 10/10\n",
            "1250/1250 [==============================] - 83s 67ms/step - loss: 0.8916 - accuracy: 0.6877 - val_loss: 0.9842 - val_accuracy: 0.6576\n",
            "> 65.760\n",
            "Epoch 1/10\n",
            "1250/1250 [==============================] - 87s 69ms/step - loss: 1.6039 - accuracy: 0.4144 - val_loss: 1.3722 - val_accuracy: 0.5010\n",
            "Epoch 2/10\n",
            "1250/1250 [==============================] - 83s 66ms/step - loss: 1.3026 - accuracy: 0.5369 - val_loss: 1.1756 - val_accuracy: 0.5851\n",
            "Epoch 3/10\n",
            "1250/1250 [==============================] - 81s 64ms/step - loss: 1.1796 - accuracy: 0.5828 - val_loss: 1.1766 - val_accuracy: 0.5837\n",
            "Epoch 4/10\n",
            "1250/1250 [==============================] - 85s 68ms/step - loss: 1.0980 - accuracy: 0.6100 - val_loss: 1.2495 - val_accuracy: 0.5615\n",
            "Epoch 5/10\n",
            "1250/1250 [==============================] - 86s 69ms/step - loss: 1.0474 - accuracy: 0.6301 - val_loss: 1.0960 - val_accuracy: 0.6102\n",
            "Epoch 6/10\n",
            "1250/1250 [==============================] - 87s 69ms/step - loss: 1.0090 - accuracy: 0.6463 - val_loss: 1.1333 - val_accuracy: 0.5974\n",
            "Epoch 7/10\n",
            "1250/1250 [==============================] - 89s 71ms/step - loss: 0.9686 - accuracy: 0.6607 - val_loss: 1.0225 - val_accuracy: 0.6445\n",
            "Epoch 8/10\n",
            "1250/1250 [==============================] - 83s 66ms/step - loss: 0.9424 - accuracy: 0.6699 - val_loss: 1.0184 - val_accuracy: 0.6410\n",
            "Epoch 9/10\n",
            "1250/1250 [==============================] - 79s 64ms/step - loss: 0.9266 - accuracy: 0.6732 - val_loss: 0.9167 - val_accuracy: 0.6806\n",
            "Epoch 10/10\n",
            "1250/1250 [==============================] - 88s 70ms/step - loss: 0.9008 - accuracy: 0.6823 - val_loss: 1.0590 - val_accuracy: 0.6280\n",
            "> 62.800\n",
            "Acurácia: média=66.940 desvio=2.533\n"
          ]
        },
        {
          "output_type": "display_data",
          "data": {
            "text/plain": [
              "<Figure size 640x480 with 1 Axes>"
            ],
            "image/png": "[encoded data removed]"
          },
          "metadata": {}
        }
      ],
      "source": [
        "scores = []\n",
        "histories = []\n",
        "\n",
        "# definindo a validação k-fold\n",
        "kfold = KFold(5, shuffle=True, random_state=1)\n",
        "\n",
        "# loop para as k-folds (cada fold usa subconjuntos de treino e teste diferentes)\n",
        "for train_ix, test_ix in kfold.split(trainX):\n",
        "\n",
        "  model = define_model()\n",
        "\n",
        "  # recorta dados de acordo com índices da k-fold\n",
        "  train_data, train_target, val_data, val_target = trainX[train_ix], trainY[train_ix], trainX[test_ix], trainY[test_ix]\n",
        "\n",
        "  # treinamento do modelo\n",
        "  history = model.fit(train_data, train_target,\n",
        "                      epochs=10, batch_size=32,\n",
        "                      validation_data=(val_data, val_target),\n",
        "                      verbose=1)\n",
        "\n",
        "  # desempenho do modelo\n",
        "  _, acc = model.evaluate(val_data, val_target, verbose=0)\n",
        "  print('> %.3f' % (acc * 100.0))\n",
        "\n",
        "  # armazena resultados de cada modelo treinado dentro da k-fold\n",
        "  scores.append(acc)\n",
        "  histories.append(history)\n",
        "\n",
        "print('Acurácia: média=%.3f desvio=%.3f' % (np.mean(scores)*100, np.std(scores)*100))\n",
        "plt.boxplot(scores)\n",
        "plt.show()"
      ]
    },
    {
      "cell_type": "markdown",
      "source": [
        "O resultado foi:\n",
        "\n",
        "- Acurácia: média=66.940 desvio=2.533\n",
        "\n",
        "Aplicar o dropout de 20% após cada camada de MaxPooling não resultou em diferenças significativas. Isso pode indicar que o modelo ainda não está passando por overfitting."
      ],
      "metadata": {
        "id": "iaRKDS0GJ2-8"
      }
    },
    {
      "cell_type": "code",
      "source": [],
      "metadata": {
        "id": "gGlQars7VXT_"
      },
      "execution_count": null,
      "outputs": []
    }
  ],
  "metadata": {
    "accelerator": "GPU",
    "colab": {
      "provenance": [],
      "include_colab_link": true
    },
    "kernelspec": {
      "display_name": "Python 3",
      "name": "python3"
    },
    "language_info": {
      "name": "python"
    }
  },
  "nbformat": 4,
  "nbformat_minor": 0
}