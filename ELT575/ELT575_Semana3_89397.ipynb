{
  "nbformat": 4,
  "nbformat_minor": 0,
  "metadata": {
    "colab": {
      "provenance": [],
      "include_colab_link": true
    },
    "kernelspec": {
      "name": "python3",
      "display_name": "Python 3"
    },
    "language_info": {
      "name": "python"
    },
    "accelerator": "GPU"
  },
  "cells": [
    {
      "cell_type": "markdown",
      "metadata": {
        "id": "view-in-github",
        "colab_type": "text"
      },
      "source": [
        "<a href=\"https://colab.research.google.com/github/valerialrc/ufv/blob/main/ELT575_Semana3_89397.ipynb\" target=\"_parent\"><img src=\"https://colab.research.google.com/assets/colab-badge.svg\" alt=\"Open In Colab\"/></a>"
      ]
    },
    {
      "cell_type": "code",
      "execution_count": 1,
      "metadata": {
        "id": "UR1dg85VTet-",
        "colab": {
          "base_uri": "https://localhost:8080/"
        },
        "outputId": "cb62f340-1452-419a-8aa0-7055d1f9b5c0"
      },
      "outputs": [
        {
          "output_type": "stream",
          "name": "stdout",
          "text": [
            "Mounted at /content/drive\n"
          ]
        }
      ],
      "source": [
        "## Habilitar Google Drive no Colab\n",
        "from google.colab import drive\n",
        "drive.mount('/content/drive')\n",
        "\n",
        "from pandas import read_csv\n",
        "import numpy as np\n",
        "from tensorflow.keras.models import Sequential\n",
        "from tensorflow.keras.layers import Dense, SimpleRNN, LSTM, Dropout\n",
        "from sklearn.preprocessing import MinMaxScaler\n",
        "from sklearn.metrics import mean_squared_error\n",
        "import math\n",
        "import matplotlib.pyplot as plt"
      ]
    },
    {
      "cell_type": "markdown",
      "source": [
        "# Importando dados"
      ],
      "metadata": {
        "id": "Wn2OF0PjVzA4"
      }
    },
    {
      "cell_type": "markdown",
      "source": [
        "Nesse problema de predição, usaremos um dataset contido em um arquivo csv. Assim, usamos a função read_csv do pandas passando a PATH no Google Drive como caminho dos dados.\n",
        "* Usaremos os últimos 20% dos pontos temporais como dados de teste\n",
        "\n",
        "* Uma transformação Min-Max é usada apenas para colocar os dados numa escala [0,1]"
      ],
      "metadata": {
        "id": "VZwPz8dFV4bh"
      }
    },
    {
      "cell_type": "code",
      "source": [
        "def get_train_test(path, split_percent=0.8):\n",
        "    df = read_csv(path, usecols=[1], engine='python')\n",
        "    data = np.array(df.values.astype('float32'))\n",
        "    scaler = MinMaxScaler(feature_range=(0, 1))\n",
        "    data = scaler.fit_transform(data).flatten()\n",
        "    n = len(data)\n",
        "    # Point for splitting data into train and test\n",
        "    split = int(n*split_percent)\n",
        "    train_data = data[range(split)]\n",
        "    test_data = data[split:]\n",
        "    return train_data, test_data, data\n",
        "\n",
        "path = '/content/drive/MyDrive/UFV/ELT575/tesla_stock_2015_2022.csv'\n",
        "train_data, test_data, data = get_train_test(path)"
      ],
      "metadata": {
        "id": "lX0uwvldTkzl"
      },
      "execution_count": 2,
      "outputs": []
    },
    {
      "cell_type": "markdown",
      "source": [
        "# Preparação dos dados"
      ],
      "metadata": {
        "id": "uq007dzyWjfu"
      }
    },
    {
      "cell_type": "markdown",
      "source": [
        "Para preparar os dados para a rede recorrente, devemos quebrar a série temporal em vetores de tamanho igual ao número de entradas da nossa rede (estamos considerando assim quantos time steps passados estamos usando para prever o time step atual)"
      ],
      "metadata": {
        "id": "Ab12ekDHWmv3"
      }
    },
    {
      "cell_type": "code",
      "source": [
        "len(train_data)"
      ],
      "metadata": {
        "id": "Wb9y4oTNkUx0",
        "colab": {
          "base_uri": "https://localhost:8080/"
        },
        "outputId": "b45cdd5d-76ea-40e9-ebb0-6b68f977911b"
      },
      "execution_count": 3,
      "outputs": [
        {
          "output_type": "execute_result",
          "data": {
            "text/plain": [
              "1315"
            ]
          },
          "metadata": {},
          "execution_count": 3
        }
      ]
    },
    {
      "cell_type": "code",
      "source": [
        "# Prepare the input X and target Y\n",
        "def get_XY(dat, time_steps):\n",
        "    # Indices of target array\n",
        "    Y_ind = np.arange(time_steps, len(dat), time_steps)\n",
        "    Y = dat[Y_ind]\n",
        "    # Prepare X\n",
        "    rows_x = len(Y)\n",
        "    X = dat[range(time_steps*rows_x)]\n",
        "    X = np.reshape(X, (rows_x, time_steps, 1))\n",
        "    return X, Y\n",
        "\n",
        "time_steps = 12\n",
        "trainX, trainY = get_XY(train_data, time_steps)\n",
        "testX, testY = get_XY(test_data, time_steps)"
      ],
      "metadata": {
        "id": "QaxMoJ5WUGMQ"
      },
      "execution_count": 4,
      "outputs": []
    },
    {
      "cell_type": "markdown",
      "source": [
        "# Construindo o modelo"
      ],
      "metadata": {
        "id": "pL2d-nZVXQVX"
      }
    },
    {
      "cell_type": "markdown",
      "source": [
        "Usaramos aqui uma rede recorrente simples com 3 unidades ocultas que utilizam 12 passos anteriores para estimar o atual estado. O resultado é avaliado por um único neurônio totalmente conectado que nos dá a saída da rede\n",
        "* Função de ativação tanh em ambas as camadas da rede.\n",
        "\n",
        "* Como função objetiva, usaremos o erro médio quadrático, já que estamos lidando com um problema de predição"
      ],
      "metadata": {
        "id": "z0uDihf5XZoX"
      }
    },
    {
      "cell_type": "code",
      "source": [
        "def create_RNN(hidden_units, dense_units, input_shape, activation):\n",
        "    model = Sequential()\n",
        "    model.add(LSTM(hidden_units, input_shape=input_shape,\n",
        "                   activation=activation[0]))\n",
        "    model.add(Dense(units=dense_units, activation=activation[1]))\n",
        "    model.compile(loss='mean_squared_error', optimizer='adam')\n",
        "    return model\n",
        "\n",
        "model = create_RNN(hidden_units=50, dense_units=1, input_shape=(time_steps,1),\n",
        "                   activation=['tanh', 'tanh'])\n",
        "model.fit(trainX, trainY, validation_data=(testX, testY), epochs=20, batch_size=1, verbose=2)"
      ],
      "metadata": {
        "id": "Nik1CX1IUeIe",
        "colab": {
          "base_uri": "https://localhost:8080/"
        },
        "outputId": "6719b860-d8c1-4919-9010-c33b238f54e9"
      },
      "execution_count": 5,
      "outputs": [
        {
          "output_type": "stream",
          "name": "stdout",
          "text": [
            "Epoch 1/20\n",
            "109/109 - 3s - loss: 0.0018 - val_loss: 0.0032 - 3s/epoch - 29ms/step\n",
            "Epoch 2/20\n",
            "109/109 - 0s - loss: 1.5432e-04 - val_loss: 0.0034 - 497ms/epoch - 5ms/step\n",
            "Epoch 3/20\n",
            "109/109 - 1s - loss: 7.6171e-05 - val_loss: 0.0051 - 579ms/epoch - 5ms/step\n",
            "Epoch 4/20\n",
            "109/109 - 0s - loss: 8.2617e-05 - val_loss: 0.0080 - 431ms/epoch - 4ms/step\n",
            "Epoch 5/20\n",
            "109/109 - 1s - loss: 1.3258e-04 - val_loss: 0.0032 - 502ms/epoch - 5ms/step\n",
            "Epoch 6/20\n",
            "109/109 - 1s - loss: 6.6191e-05 - val_loss: 0.0059 - 563ms/epoch - 5ms/step\n",
            "Epoch 7/20\n",
            "109/109 - 1s - loss: 2.2077e-04 - val_loss: 0.0043 - 730ms/epoch - 7ms/step\n",
            "Epoch 8/20\n",
            "109/109 - 1s - loss: 8.5563e-05 - val_loss: 0.0085 - 676ms/epoch - 6ms/step\n",
            "Epoch 9/20\n",
            "109/109 - 1s - loss: 1.1882e-04 - val_loss: 0.0069 - 747ms/epoch - 7ms/step\n",
            "Epoch 10/20\n",
            "109/109 - 1s - loss: 6.0752e-05 - val_loss: 0.0033 - 698ms/epoch - 6ms/step\n",
            "Epoch 11/20\n",
            "109/109 - 1s - loss: 8.7569e-05 - val_loss: 0.0042 - 742ms/epoch - 7ms/step\n",
            "Epoch 12/20\n",
            "109/109 - 1s - loss: 7.7902e-05 - val_loss: 0.0063 - 644ms/epoch - 6ms/step\n",
            "Epoch 13/20\n",
            "109/109 - 0s - loss: 7.3265e-05 - val_loss: 0.0070 - 463ms/epoch - 4ms/step\n",
            "Epoch 14/20\n",
            "109/109 - 1s - loss: 9.8108e-05 - val_loss: 0.0073 - 566ms/epoch - 5ms/step\n",
            "Epoch 15/20\n",
            "109/109 - 1s - loss: 7.2900e-05 - val_loss: 0.0029 - 793ms/epoch - 7ms/step\n",
            "Epoch 16/20\n",
            "109/109 - 1s - loss: 5.5264e-05 - val_loss: 0.0038 - 918ms/epoch - 8ms/step\n",
            "Epoch 17/20\n",
            "109/109 - 1s - loss: 6.8808e-05 - val_loss: 0.0035 - 922ms/epoch - 8ms/step\n",
            "Epoch 18/20\n",
            "109/109 - 1s - loss: 6.2090e-05 - val_loss: 0.0028 - 867ms/epoch - 8ms/step\n",
            "Epoch 19/20\n",
            "109/109 - 1s - loss: 5.6573e-05 - val_loss: 0.0036 - 537ms/epoch - 5ms/step\n",
            "Epoch 20/20\n",
            "109/109 - 0s - loss: 6.9528e-05 - val_loss: 0.0037 - 496ms/epoch - 5ms/step\n"
          ]
        },
        {
          "output_type": "execute_result",
          "data": {
            "text/plain": [
              "<keras.src.callbacks.History at 0x7b2810657eb0>"
            ]
          },
          "metadata": {},
          "execution_count": 5
        }
      ]
    },
    {
      "cell_type": "markdown",
      "source": [
        "## Avaliando o treinamento"
      ],
      "metadata": {
        "id": "RSopqK9gcLYh"
      }
    },
    {
      "cell_type": "markdown",
      "source": [
        "Primeiro avaliamos o erro médio quadrático do conjunto de treino e de teste"
      ],
      "metadata": {
        "id": "_UgORVVbcPS3"
      }
    },
    {
      "cell_type": "code",
      "source": [
        "def print_error(trainY, testY, train_predict, test_predict):\n",
        "    # Error of predictions\n",
        "    train_rmse = math.sqrt(mean_squared_error(trainY, train_predict))\n",
        "    test_rmse = math.sqrt(mean_squared_error(testY, test_predict))\n",
        "    # Print RMSE\n",
        "    print('Raíz do Erro Médio Quadrático para Treino: %.3f' % (train_rmse))\n",
        "    print('Raíz do Erro Médio Quadrático para Teste: %.3f' % (test_rmse))\n",
        "\n",
        "# make predictions\n",
        "train_predict = model.predict(trainX)\n",
        "test_predict = model.predict(testX)\n",
        "# Mean square error\n",
        "print_error(trainY, testY, train_predict, test_predict)"
      ],
      "metadata": {
        "id": "kNUySaZOUl9H",
        "colab": {
          "base_uri": "https://localhost:8080/"
        },
        "outputId": "228cdc66-aaed-4596-c270-acaa3857c88d"
      },
      "execution_count": 6,
      "outputs": [
        {
          "output_type": "stream",
          "name": "stdout",
          "text": [
            "4/4 [==============================] - 1s 4ms/step\n",
            "1/1 [==============================] - 0s 22ms/step\n",
            "Raíz do Erro Médio Quadrático para Treino: 0.011\n",
            "Raíz do Erro Médio Quadrático para Teste: 0.061\n"
          ]
        }
      ]
    },
    {
      "cell_type": "markdown",
      "source": [
        "Podemos também plotar como as nossas previsões se comparam com a série temporal original, como mostrado abaixo"
      ],
      "metadata": {
        "id": "ctKb50cIcch-"
      }
    },
    {
      "cell_type": "code",
      "source": [
        "# Plot the result\n",
        "def plot_result(trainY, testY, train_predict, test_predict):\n",
        "    actual = np.append(trainY, testY)\n",
        "    predictions = np.append(train_predict, test_predict)\n",
        "    rows = len(actual)\n",
        "    plt.figure(figsize=(15, 6), dpi=80)\n",
        "    plt.plot(range(rows), actual)\n",
        "    plt.plot(range(rows), predictions)\n",
        "    plt.axvline(x=len(trainY), color='r')\n",
        "    plt.legend(['Original', 'Previsão'])\n",
        "    plt.xlabel('Observações')\n",
        "    plt.ylabel('Valores Escalados do Preço da Abertura da Ação')\n",
        "    plt.title('Valores Originais vs. Previstos. Linha vermelha separa os dados de teste')\n",
        "plot_result(trainY, testY, train_predict, test_predict)"
      ],
      "metadata": {
        "id": "IeCl1kbSVFrD",
        "colab": {
          "base_uri": "https://localhost:8080/",
          "height": 451
        },
        "outputId": "0707fa64-6c73-4ae9-ca09-a404d2489136"
      },
      "execution_count": 7,
      "outputs": [
        {
          "output_type": "display_data",
          "data": {
            "text/plain": [
              "<Figure size 1200x480 with 1 Axes>"
            ],
            "image/png": "[encoded data removed]"
          },
          "metadata": {}
        }
      ]
    },
    {
      "cell_type": "markdown",
      "source": [
        "# Adicionando mais uma camada LSTM após a primeira\n",
        "Mesmo número de unidades ocultas do item anterior."
      ],
      "metadata": {
        "id": "DaxDWHdABa7Z"
      }
    },
    {
      "cell_type": "code",
      "source": [
        "def create_RNN_double_LSTM(hidden_units, dense_units, input_shape, activation):\n",
        "    model = Sequential()\n",
        "    model.add(LSTM(hidden_units, input_shape=input_shape,\n",
        "                   activation=activation[0], return_sequences=True))\n",
        "    model.add(LSTM(hidden_units, activation=activation[0]))\n",
        "    model.add(Dense(units=dense_units, activation=activation[1]))\n",
        "    model.compile(loss='mean_squared_error', optimizer='adam')\n",
        "    return model\n",
        "\n",
        "model = create_RNN(hidden_units=50, dense_units=1, input_shape=(time_steps,1),\n",
        "                   activation=['tanh', 'tanh'])\n",
        "model.fit(trainX, trainY, validation_data=(testX, testY), epochs=20, batch_size=1, verbose=2)"
      ],
      "metadata": {
        "id": "9mjBOi5VBbwc",
        "colab": {
          "base_uri": "https://localhost:8080/"
        },
        "outputId": "36e988f3-21fc-4f13-cf07-99e0d2b05846"
      },
      "execution_count": 8,
      "outputs": [
        {
          "output_type": "stream",
          "name": "stdout",
          "text": [
            "Epoch 1/20\n",
            "109/109 - 3s - loss: 6.0823e-04 - val_loss: 0.0030 - 3s/epoch - 27ms/step\n",
            "Epoch 2/20\n",
            "109/109 - 1s - loss: 1.3689e-04 - val_loss: 0.0090 - 748ms/epoch - 7ms/step\n",
            "Epoch 3/20\n",
            "109/109 - 1s - loss: 1.1241e-04 - val_loss: 0.0029 - 658ms/epoch - 6ms/step\n",
            "Epoch 4/20\n",
            "109/109 - 1s - loss: 6.2228e-05 - val_loss: 0.0027 - 761ms/epoch - 7ms/step\n",
            "Epoch 5/20\n",
            "109/109 - 1s - loss: 6.1710e-05 - val_loss: 0.0028 - 770ms/epoch - 7ms/step\n",
            "Epoch 6/20\n",
            "109/109 - 1s - loss: 5.4827e-05 - val_loss: 0.0042 - 810ms/epoch - 7ms/step\n",
            "Epoch 7/20\n",
            "109/109 - 1s - loss: 1.5229e-04 - val_loss: 0.0038 - 737ms/epoch - 7ms/step\n",
            "Epoch 8/20\n",
            "109/109 - 1s - loss: 2.4741e-04 - val_loss: 0.0029 - 537ms/epoch - 5ms/step\n",
            "Epoch 9/20\n",
            "109/109 - 0s - loss: 5.2032e-05 - val_loss: 0.0027 - 480ms/epoch - 4ms/step\n",
            "Epoch 10/20\n",
            "109/109 - 1s - loss: 3.8435e-05 - val_loss: 0.0071 - 535ms/epoch - 5ms/step\n",
            "Epoch 11/20\n",
            "109/109 - 1s - loss: 1.0257e-04 - val_loss: 0.0022 - 504ms/epoch - 5ms/step\n",
            "Epoch 12/20\n",
            "109/109 - 1s - loss: 3.8577e-05 - val_loss: 0.0029 - 518ms/epoch - 5ms/step\n",
            "Epoch 13/20\n",
            "109/109 - 1s - loss: 5.8673e-05 - val_loss: 0.0022 - 515ms/epoch - 5ms/step\n",
            "Epoch 14/20\n",
            "109/109 - 1s - loss: 3.0819e-05 - val_loss: 0.0077 - 539ms/epoch - 5ms/step\n",
            "Epoch 15/20\n",
            "109/109 - 1s - loss: 4.3015e-05 - val_loss: 0.0023 - 540ms/epoch - 5ms/step\n",
            "Epoch 16/20\n",
            "109/109 - 0s - loss: 6.1218e-05 - val_loss: 0.0032 - 490ms/epoch - 4ms/step\n",
            "Epoch 17/20\n",
            "109/109 - 0s - loss: 8.2041e-05 - val_loss: 0.0054 - 449ms/epoch - 4ms/step\n",
            "Epoch 18/20\n",
            "109/109 - 1s - loss: 5.8295e-05 - val_loss: 0.0021 - 502ms/epoch - 5ms/step\n",
            "Epoch 19/20\n",
            "109/109 - 0s - loss: 4.7221e-05 - val_loss: 0.0019 - 473ms/epoch - 4ms/step\n",
            "Epoch 20/20\n",
            "109/109 - 0s - loss: 2.6979e-05 - val_loss: 0.0044 - 495ms/epoch - 5ms/step\n"
          ]
        },
        {
          "output_type": "execute_result",
          "data": {
            "text/plain": [
              "<keras.src.callbacks.History at 0x7b280a0b39a0>"
            ]
          },
          "metadata": {},
          "execution_count": 8
        }
      ]
    },
    {
      "cell_type": "code",
      "source": [
        "def print_error(trainY, testY, train_predict, test_predict):\n",
        "    # Error of predictions\n",
        "    train_rmse = math.sqrt(mean_squared_error(trainY, train_predict))\n",
        "    test_rmse = math.sqrt(mean_squared_error(testY, test_predict))\n",
        "    # Print RMSE\n",
        "    print('Raíz do Erro Médio Quadrático para Treino: %.3f' % (train_rmse))\n",
        "    print('Raíz do Erro Médio Quadrático para Teste: %.3f' % (test_rmse))\n",
        "\n",
        "# make predictions\n",
        "train_predict = model.predict(trainX)\n",
        "test_predict = model.predict(testX)\n",
        "# Mean square error\n",
        "print_error(trainY, testY, train_predict, test_predict)"
      ],
      "metadata": {
        "id": "Y-5cM3ukEDY-",
        "colab": {
          "base_uri": "https://localhost:8080/"
        },
        "outputId": "f3c3df47-4f30-4fcb-a7c9-0272abf9f5ff"
      },
      "execution_count": 9,
      "outputs": [
        {
          "output_type": "stream",
          "name": "stdout",
          "text": [
            "4/4 [==============================] - 0s 5ms/step\n",
            "1/1 [==============================] - 0s 23ms/step\n",
            "Raíz do Erro Médio Quadrático para Treino: 0.007\n",
            "Raíz do Erro Médio Quadrático para Teste: 0.067\n"
          ]
        }
      ]
    },
    {
      "cell_type": "markdown",
      "source": [
        "A Raíz do Erro Médio Quadrático para Treino diminuiu levemente, o que pode significar que o modelo está se ajustando melhor aos dados de treinamento, mas como a Raíz do Erro Médio Quadrático para Teste aumentou, o modelo pode estar com um leve overfitting."
      ],
      "metadata": {
        "id": "jRryvcP8Mw1M"
      }
    },
    {
      "cell_type": "markdown",
      "source": [
        "# Adicionando um Dropout de 20% após cada camada LSTM"
      ],
      "metadata": {
        "id": "DIRvMHe6FK5P"
      }
    },
    {
      "cell_type": "code",
      "source": [
        "def create_RNN_double_LSTM_and_dropout(hidden_units, dense_units, input_shape, activation, dropout_rate=0.2):\n",
        "    model = Sequential()\n",
        "    model.add(LSTM(hidden_units, input_shape=input_shape,\n",
        "                   activation=activation[0], return_sequences=True))\n",
        "    model.add(Dropout(dropout_rate))\n",
        "\n",
        "    model.add(LSTM(hidden_units, activation=activation[0]))\n",
        "    model.add(Dropout(dropout_rate))\n",
        "\n",
        "    model.add(Dense(units=dense_units, activation=activation[1]))\n",
        "    model.compile(loss='mean_squared_error', optimizer='adam')\n",
        "    return model\n",
        "\n",
        "model = create_RNN(hidden_units=50, dense_units=1, input_shape=(time_steps,1),\n",
        "                   activation=['tanh', 'tanh'])\n",
        "model.fit(trainX, trainY, validation_data=(testX, testY), epochs=20, batch_size=1, verbose=2)"
      ],
      "metadata": {
        "id": "nhDvntw3Fd7r",
        "colab": {
          "base_uri": "https://localhost:8080/"
        },
        "outputId": "925de65a-1088-404a-fa20-38ffc4a497f9"
      },
      "execution_count": 10,
      "outputs": [
        {
          "output_type": "stream",
          "name": "stdout",
          "text": [
            "Epoch 1/20\n",
            "109/109 - 3s - loss: 0.0017 - val_loss: 0.0072 - 3s/epoch - 27ms/step\n",
            "Epoch 2/20\n",
            "109/109 - 1s - loss: 1.1873e-04 - val_loss: 0.0045 - 678ms/epoch - 6ms/step\n",
            "Epoch 3/20\n",
            "109/109 - 1s - loss: 8.4999e-05 - val_loss: 0.0068 - 666ms/epoch - 6ms/step\n",
            "Epoch 4/20\n",
            "109/109 - 1s - loss: 3.8261e-04 - val_loss: 0.0038 - 740ms/epoch - 7ms/step\n",
            "Epoch 5/20\n",
            "109/109 - 1s - loss: 1.1962e-04 - val_loss: 0.0051 - 731ms/epoch - 7ms/step\n",
            "Epoch 6/20\n",
            "109/109 - 1s - loss: 9.9091e-05 - val_loss: 0.0038 - 719ms/epoch - 7ms/step\n",
            "Epoch 7/20\n",
            "109/109 - 1s - loss: 8.3054e-05 - val_loss: 0.0042 - 601ms/epoch - 6ms/step\n",
            "Epoch 8/20\n",
            "109/109 - 0s - loss: 6.0896e-05 - val_loss: 0.0033 - 480ms/epoch - 4ms/step\n",
            "Epoch 9/20\n",
            "109/109 - 0s - loss: 5.5045e-05 - val_loss: 0.0089 - 467ms/epoch - 4ms/step\n",
            "Epoch 10/20\n",
            "109/109 - 0s - loss: 1.6861e-04 - val_loss: 0.0191 - 485ms/epoch - 4ms/step\n",
            "Epoch 11/20\n",
            "109/109 - 0s - loss: 1.8534e-04 - val_loss: 0.0059 - 434ms/epoch - 4ms/step\n",
            "Epoch 12/20\n",
            "109/109 - 0s - loss: 5.0191e-05 - val_loss: 0.0025 - 453ms/epoch - 4ms/step\n",
            "Epoch 13/20\n",
            "109/109 - 0s - loss: 4.3046e-05 - val_loss: 0.0044 - 466ms/epoch - 4ms/step\n",
            "Epoch 14/20\n",
            "109/109 - 0s - loss: 6.0749e-05 - val_loss: 0.0035 - 457ms/epoch - 4ms/step\n",
            "Epoch 15/20\n",
            "109/109 - 0s - loss: 8.2989e-05 - val_loss: 0.0066 - 467ms/epoch - 4ms/step\n",
            "Epoch 16/20\n",
            "109/109 - 0s - loss: 1.0767e-04 - val_loss: 0.0041 - 482ms/epoch - 4ms/step\n",
            "Epoch 17/20\n",
            "109/109 - 1s - loss: 5.3842e-05 - val_loss: 0.0046 - 509ms/epoch - 5ms/step\n",
            "Epoch 18/20\n",
            "109/109 - 0s - loss: 6.6382e-05 - val_loss: 0.0025 - 482ms/epoch - 4ms/step\n",
            "Epoch 19/20\n",
            "109/109 - 0s - loss: 3.6838e-05 - val_loss: 0.0029 - 479ms/epoch - 4ms/step\n",
            "Epoch 20/20\n",
            "109/109 - 1s - loss: 3.5899e-05 - val_loss: 0.0028 - 501ms/epoch - 5ms/step\n"
          ]
        },
        {
          "output_type": "execute_result",
          "data": {
            "text/plain": [
              "<keras.src.callbacks.History at 0x7b280a990a30>"
            ]
          },
          "metadata": {},
          "execution_count": 10
        }
      ]
    },
    {
      "cell_type": "code",
      "source": [
        "def print_error(trainY, testY, train_predict, test_predict):\n",
        "    # Error of predictions\n",
        "    train_rmse = math.sqrt(mean_squared_error(trainY, train_predict))\n",
        "    test_rmse = math.sqrt(mean_squared_error(testY, test_predict))\n",
        "    # Print RMSE\n",
        "    print('Raíz do Erro Médio Quadrático para Treino: %.3f' % (train_rmse))\n",
        "    print('Raíz do Erro Médio Quadrático para Teste: %.3f' % (test_rmse))\n",
        "\n",
        "# make predictions\n",
        "train_predict = model.predict(trainX)\n",
        "test_predict = model.predict(testX)\n",
        "# Mean square error\n",
        "print_error(trainY, testY, train_predict, test_predict)"
      ],
      "metadata": {
        "id": "BgCjK0d8F82h",
        "colab": {
          "base_uri": "https://localhost:8080/"
        },
        "outputId": "79fa243e-37ff-4a65-ae06-ad1b6afc1d09"
      },
      "execution_count": 11,
      "outputs": [
        {
          "output_type": "stream",
          "name": "stdout",
          "text": [
            "4/4 [==============================] - 0s 7ms/step\n",
            "1/1 [==============================] - 0s 25ms/step\n",
            "Raíz do Erro Médio Quadrático para Treino: 0.007\n",
            "Raíz do Erro Médio Quadrático para Teste: 0.053\n"
          ]
        }
      ]
    },
    {
      "cell_type": "markdown",
      "source": [
        "O resultado indica que a adição das camadas de dropout ajudou a diminuir o overfitting do modelo."
      ],
      "metadata": {
        "id": "PO2DVewmNhyv"
      }
    },
    {
      "cell_type": "markdown",
      "source": [
        "# Modificando o modelo para que ele tenha 4 blocos LSTM (50 unidades ocultas) + Dropout (20 %) antes da camada Dense."
      ],
      "metadata": {
        "id": "Mih7R1rOGThE"
      }
    },
    {
      "cell_type": "code",
      "source": [
        "def create_RNN_quadruple_LSTM_and_dropout(hidden_units, dense_units, input_shape, activation, dropout_rate=0.2):\n",
        "    model = Sequential()\n",
        "    model.add(LSTM(hidden_units, input_shape=input_shape,\n",
        "                   activation=activation[0], return_sequences=True))\n",
        "    model.add(Dropout(dropout_rate))\n",
        "\n",
        "    model.add(LSTM(hidden_units, activation=activation[0], return_sequences=True))\n",
        "    model.add(Dropout(dropout_rate))\n",
        "\n",
        "    model.add(LSTM(hidden_units, activation=activation[0], return_sequences=True))\n",
        "    model.add(Dropout(dropout_rate))\n",
        "\n",
        "    model.add(LSTM(hidden_units, activation=activation[0]))\n",
        "    model.add(Dropout(dropout_rate))\n",
        "\n",
        "    model.add(Dense(units=dense_units, activation=activation[1]))\n",
        "    model.compile(loss='mean_squared_error', optimizer='adam')\n",
        "    return model\n",
        "\n",
        "model = create_RNN(hidden_units=50, dense_units=1, input_shape=(time_steps,1),\n",
        "                   activation=['tanh', 'tanh'])\n",
        "model.fit(trainX, trainY, validation_data=(testX, testY), epochs=20, batch_size=1, verbose=2)"
      ],
      "metadata": {
        "id": "__KByXWtGRL7",
        "colab": {
          "base_uri": "https://localhost:8080/"
        },
        "outputId": "e1da59f7-556e-424c-9a2c-935066212130"
      },
      "execution_count": 12,
      "outputs": [
        {
          "output_type": "stream",
          "name": "stdout",
          "text": [
            "Epoch 1/20\n",
            "109/109 - 3s - loss: 7.3600e-04 - val_loss: 0.0081 - 3s/epoch - 25ms/step\n",
            "Epoch 2/20\n",
            "109/109 - 0s - loss: 9.4301e-05 - val_loss: 0.0034 - 465ms/epoch - 4ms/step\n",
            "Epoch 3/20\n",
            "109/109 - 1s - loss: 8.3465e-05 - val_loss: 0.0040 - 520ms/epoch - 5ms/step\n",
            "Epoch 4/20\n",
            "109/109 - 0s - loss: 8.3512e-05 - val_loss: 0.0058 - 465ms/epoch - 4ms/step\n",
            "Epoch 5/20\n",
            "109/109 - 1s - loss: 7.9801e-05 - val_loss: 0.0034 - 510ms/epoch - 5ms/step\n",
            "Epoch 6/20\n",
            "109/109 - 0s - loss: 9.7913e-05 - val_loss: 0.0032 - 485ms/epoch - 4ms/step\n",
            "Epoch 7/20\n",
            "109/109 - 1s - loss: 1.0586e-04 - val_loss: 0.0036 - 506ms/epoch - 5ms/step\n",
            "Epoch 8/20\n",
            "109/109 - 0s - loss: 1.7282e-04 - val_loss: 0.0123 - 483ms/epoch - 4ms/step\n",
            "Epoch 9/20\n",
            "109/109 - 1s - loss: 8.9988e-05 - val_loss: 0.0051 - 578ms/epoch - 5ms/step\n",
            "Epoch 10/20\n",
            "109/109 - 1s - loss: 7.8650e-05 - val_loss: 0.0027 - 675ms/epoch - 6ms/step\n",
            "Epoch 11/20\n",
            "109/109 - 1s - loss: 1.0973e-04 - val_loss: 0.0044 - 732ms/epoch - 7ms/step\n",
            "Epoch 12/20\n",
            "109/109 - 1s - loss: 1.6096e-04 - val_loss: 0.0064 - 660ms/epoch - 6ms/step\n",
            "Epoch 13/20\n",
            "109/109 - 1s - loss: 5.9921e-05 - val_loss: 0.0026 - 726ms/epoch - 7ms/step\n",
            "Epoch 14/20\n",
            "109/109 - 1s - loss: 7.1781e-05 - val_loss: 0.0041 - 796ms/epoch - 7ms/step\n",
            "Epoch 15/20\n",
            "109/109 - 1s - loss: 4.7349e-05 - val_loss: 0.0075 - 705ms/epoch - 6ms/step\n",
            "Epoch 16/20\n",
            "109/109 - 0s - loss: 1.0431e-04 - val_loss: 0.0027 - 495ms/epoch - 5ms/step\n",
            "Epoch 17/20\n",
            "109/109 - 0s - loss: 4.4469e-05 - val_loss: 0.0026 - 499ms/epoch - 5ms/step\n",
            "Epoch 18/20\n",
            "109/109 - 1s - loss: 4.9819e-05 - val_loss: 0.0081 - 508ms/epoch - 5ms/step\n",
            "Epoch 19/20\n",
            "109/109 - 0s - loss: 7.5817e-05 - val_loss: 0.0031 - 499ms/epoch - 5ms/step\n",
            "Epoch 20/20\n",
            "109/109 - 1s - loss: 4.0955e-05 - val_loss: 0.0024 - 510ms/epoch - 5ms/step\n"
          ]
        },
        {
          "output_type": "execute_result",
          "data": {
            "text/plain": [
              "<keras.src.callbacks.History at 0x7b280a37f730>"
            ]
          },
          "metadata": {},
          "execution_count": 12
        }
      ]
    },
    {
      "cell_type": "code",
      "source": [
        "def print_error(trainY, testY, train_predict, test_predict):\n",
        "    # Error of predictions\n",
        "    train_rmse = math.sqrt(mean_squared_error(trainY, train_predict))\n",
        "    test_rmse = math.sqrt(mean_squared_error(testY, test_predict))\n",
        "    # Print RMSE\n",
        "    print('Raíz do Erro Médio Quadrático para Treino: %.3f' % (train_rmse))\n",
        "    print('Raíz do Erro Médio Quadrático para Teste: %.3f' % (test_rmse))\n",
        "\n",
        "# make predictions\n",
        "train_predict = model.predict(trainX)\n",
        "test_predict = model.predict(testX)\n",
        "# Mean square error\n",
        "print_error(trainY, testY, train_predict, test_predict)"
      ],
      "metadata": {
        "id": "FnDmhy7lHDDl",
        "colab": {
          "base_uri": "https://localhost:8080/"
        },
        "outputId": "377275b8-2466-4031-bb92-b92efe084a8f"
      },
      "execution_count": 13,
      "outputs": [
        {
          "output_type": "stream",
          "name": "stdout",
          "text": [
            "4/4 [==============================] - 1s 7ms/step\n",
            "1/1 [==============================] - 0s 38ms/step\n",
            "Raíz do Erro Médio Quadrático para Treino: 0.006\n",
            "Raíz do Erro Médio Quadrático para Teste: 0.049\n"
          ]
        }
      ]
    },
    {
      "cell_type": "markdown",
      "source": [
        "Como a Raíz do Erro Médio Quadrático para Teste continuou a diminuir e para Treino se manteve sem grande alterações, presume-se que o modelo se adaptou melhor aos dados do que com apenas o tratamento inicial. Pode-se continuar a adicionar camadas de LSTM com dropout e verificar se o resultado continua melhorando."
      ],
      "metadata": {
        "id": "-Xxn729NN3Bv"
      }
    }
  ]
}
